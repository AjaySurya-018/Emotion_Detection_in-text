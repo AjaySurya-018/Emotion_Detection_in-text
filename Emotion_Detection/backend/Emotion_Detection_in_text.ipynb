{
  "nbformat": 4,
  "nbformat_minor": 0,
  "metadata": {
    "colab": {
      "provenance": []
    },
    "kernelspec": {
      "name": "python3",
      "display_name": "Python 3"
    },
    "language_info": {
      "name": "python"
    }
  },
  "cells": [
    {
      "cell_type": "markdown",
      "source": [
        "## Colab Setup"
      ],
      "metadata": {
        "id": "JFekx66WEHtb"
      }
    },
    {
      "cell_type": "code",
      "execution_count": 1,
      "metadata": {
        "colab": {
          "base_uri": "https://localhost:8080/"
        },
        "id": "WgP80cxdwZlq",
        "outputId": "29280fee-e9c4-43e7-dc0d-fbfb233fca7a"
      },
      "outputs": [
        {
          "output_type": "stream",
          "name": "stdout",
          "text": [
            "\u001b[2K     \u001b[90m━━━━━━━━━━━━━━━━━━━━━━━━━━━━━━━━━━━━━━━━\u001b[0m \u001b[32m281.3/281.3 MB\u001b[0m \u001b[31m4.6 MB/s\u001b[0m eta \u001b[36m0:00:00\u001b[0m\n",
            "\u001b[?25h  Preparing metadata (setup.py) ... \u001b[?25l\u001b[?25hdone\n",
            "\u001b[2K     \u001b[90m━━━━━━━━━━━━━━━━━━━━━━━━━━━━━━━━━━━━━━━━\u001b[0m \u001b[32m453.8/453.8 kB\u001b[0m \u001b[31m34.2 MB/s\u001b[0m eta \u001b[36m0:00:00\u001b[0m\n",
            "\u001b[2K     \u001b[90m━━━━━━━━━━━━━━━━━━━━━━━━━━━━━━━━━━━━━━━━\u001b[0m \u001b[32m199.7/199.7 kB\u001b[0m \u001b[31m20.6 MB/s\u001b[0m eta \u001b[36m0:00:00\u001b[0m\n",
            "\u001b[?25h  Building wheel for pyspark (setup.py) ... \u001b[?25l\u001b[?25hdone\n"
          ]
        }
      ],
      "source": [
        "# Installing pyspark and spark-nlp\n",
        "! pip install --upgrade -q pyspark==3.3.0 spark-nlp==4.2.8"
      ]
    },
    {
      "cell_type": "markdown",
      "source": [
        "## Importing Necessary libraries"
      ],
      "metadata": {
        "id": "Nh8MTG2hEMc8"
      }
    },
    {
      "cell_type": "code",
      "source": [
        "from pyspark.sql import functions as F\n",
        "import numpy as np\n",
        "from matplotlib import pyplot as plt\n",
        "import seaborn as sns\n",
        "from pyspark.sql.window import Window\n",
        "import matplotlib.pyplot as plt\n",
        "import pandas as pd\n",
        "import sparknlp\n",
        "from sparknlp.base import *\n",
        "from sparknlp.annotator import *\n",
        "from sparknlp.common import *\n",
        "from sparknlp.pretrained import *"
      ],
      "metadata": {
        "id": "kPB-Q5s7wfRa"
      },
      "execution_count": 2,
      "outputs": []
    },
    {
      "cell_type": "markdown",
      "source": [
        "## Start Spark Session"
      ],
      "metadata": {
        "id": "AioZToXdEWGj"
      }
    },
    {
      "cell_type": "code",
      "source": [
        "spark = sparknlp.start()\n",
        "\n",
        "print(\"Spark NLP version\", sparknlp.version())\n",
        "print(\"Apache Spark version:\", spark.version)\n",
        "\n",
        "spark"
      ],
      "metadata": {
        "colab": {
          "base_uri": "https://localhost:8080/",
          "height": 254
        },
        "id": "V_2r7hjww33n",
        "outputId": "c7f22f36-d75d-497f-d26d-1facbdfb6501"
      },
      "execution_count": 3,
      "outputs": [
        {
          "output_type": "stream",
          "name": "stdout",
          "text": [
            "Spark NLP version 4.2.8\n",
            "Apache Spark version: 3.3.0\n"
          ]
        },
        {
          "output_type": "execute_result",
          "data": {
            "text/plain": [
              "<pyspark.sql.session.SparkSession at 0x7ec0874a28f0>"
            ],
            "text/html": [
              "\n",
              "            <div>\n",
              "                <p><b>SparkSession - in-memory</b></p>\n",
              "                \n",
              "        <div>\n",
              "            <p><b>SparkContext</b></p>\n",
              "\n",
              "            <p><a href=\"http://03bb480fd929:4040\">Spark UI</a></p>\n",
              "\n",
              "            <dl>\n",
              "              <dt>Version</dt>\n",
              "                <dd><code>v3.3.0</code></dd>\n",
              "              <dt>Master</dt>\n",
              "                <dd><code>local[*]</code></dd>\n",
              "              <dt>AppName</dt>\n",
              "                <dd><code>Spark NLP</code></dd>\n",
              "            </dl>\n",
              "        </div>\n",
              "        \n",
              "            </div>\n",
              "        "
            ]
          },
          "metadata": {},
          "execution_count": 3
        }
      ]
    },
    {
      "cell_type": "markdown",
      "source": [
        "## Loading Emotions Data"
      ],
      "metadata": {
        "id": "Gz_mZ1ibEf_5"
      }
    },
    {
      "cell_type": "code",
      "source": [
        "# Your existing code\n",
        "emo6 = ['anger', 'fear', 'joy', 'sadness', 'suprise', 'neutral']\n",
        "data = spark.read.option('header', True)\\\n",
        "    .csv('/content/drive/MyDrive/emotion_dataset_raw.csv')\\\n",
        "    .where(F.col('Emotion').isin(emo6))\n",
        "\n",
        "print('Total instances (sample): {:,}'.format(data.count()))"
      ],
      "metadata": {
        "colab": {
          "base_uri": "https://localhost:8080/"
        },
        "id": "7OKk56lfxKAd",
        "outputId": "728f7d34-2276-4893-c4eb-ad56d3fa911d"
      },
      "execution_count": 4,
      "outputs": [
        {
          "output_type": "stream",
          "name": "stdout",
          "text": [
            "Total instances (sample): 29,728\n"
          ]
        }
      ]
    },
    {
      "cell_type": "markdown",
      "source": [
        "## Data Visualization"
      ],
      "metadata": {
        "id": "4WmrI4IiEmfn"
      }
    },
    {
      "cell_type": "code",
      "source": [
        "(train_data,test_data) = data.randomSplit([0.8, 0.2], seed = 1234)\n",
        "\n",
        "def plot_class_distribution(df):\n",
        "    emotion_column = 'Emotion'\n",
        "\n",
        "    # Calculate class counts\n",
        "    class_counts = train_data.groupBy(emotion_column).count().toPandas()\n",
        "\n",
        "    # Plot horizontal bar chart\n",
        "    plt.figure(figsize=(8, 4))\n",
        "    sns.barplot(x='count', y=emotion_column, data=class_counts, palette='viridis')\n",
        "    plt.title('Class Distribution - Horizontal Bar Plot')\n",
        "    plt.xlabel('Count')\n",
        "    plt.ylabel('Emotion')\n",
        "    plt.show()\n",
        "\n",
        "    # Plot pie chart\n",
        "    plt.figure(figsize=(4, 4))\n",
        "    plt.pie(class_counts['count'], labels=class_counts[emotion_column], autopct='%1.1f%%', startangle=90, colors=sns.color_palette('viridis'))\n",
        "    plt.title('Class Distribution - Pie Chart')\n",
        "    plt.show()\n",
        "\n",
        "plot_class_distribution(train_data)"
      ],
      "metadata": {
        "colab": {
          "base_uri": "https://localhost:8080/",
          "height": 760
        },
        "id": "VajDdwfWxmrw",
        "outputId": "7be69ff1-8ba1-47fb-fa20-489520db9f4b"
      },
      "execution_count": 5,
      "outputs": [
        {
          "output_type": "display_data",
          "data": {
            "text/plain": [
              "<Figure size 800x400 with 1 Axes>"
            ],
            "image/png": "[encoded data removed]"
          },
          "metadata": {}
        },
        {
          "output_type": "display_data",
          "data": {
            "text/plain": [
              "<Figure size 400x400 with 1 Axes>"
            ],
            "image/png": "[encoded data removed]"
          },
          "metadata": {}
        }
      ]
    },
    {
      "cell_type": "markdown",
      "source": [
        "## Balancing the dataset"
      ],
      "metadata": {
        "id": "p6md7jmTErpE"
      }
    },
    {
      "cell_type": "code",
      "source": [
        "# Calculate the count of each class\n",
        "class_counts = data.groupBy('Emotion').count()\n",
        "\n",
        "# Find the minimum count (minority class)\n",
        "min_count = class_counts.agg({\"count\": \"min\"}).collect()[0][0]\n",
        "\n",
        "# Undersample the majority class based on the minimum count\n",
        "undersampled_data = data.withColumn(\n",
        "    \"row_number\",\n",
        "    F.row_number().over(Window.partitionBy(\"Emotion\").orderBy(F.monotonically_increasing_id()))\n",
        ").filter(F.col(\"row_number\") <= min_count).drop(\"row_number\")\n",
        "\n",
        "print('Total instances (undersampled): {:,}'.format(undersampled_data.count()))\n",
        "\n",
        "(train_data_bal,test_data_bal) = undersampled_data.randomSplit([0.8, 0.2],seed=1234)"
      ],
      "metadata": {
        "colab": {
          "base_uri": "https://localhost:8080/"
        },
        "id": "NfXFvwq2xyph",
        "outputId": "5bdb31f4-4901-4487-99a3-0a266599429d"
      },
      "execution_count": 6,
      "outputs": [
        {
          "output_type": "stream",
          "name": "stdout",
          "text": [
            "Total instances (undersampled): 11,270\n"
          ]
        }
      ]
    },
    {
      "cell_type": "markdown",
      "source": [
        "## Balanced Training Dataset\n",
        "\n"
      ],
      "metadata": {
        "id": "zMIXjqigEx5f"
      }
    },
    {
      "cell_type": "code",
      "source": [
        "# Convert PySpark DataFrame to Pandas DataFrame for visualization\n",
        "pandas_data = undersampled_data.toPandas()\n",
        "\n",
        "# Plot a horizontal bar chart\n",
        "plt.figure(figsize=(8, 4))\n",
        "pandas_data['Emotion'].value_counts().plot(kind='barh', color='skyblue')\n",
        "plt.title('Class Distribution - Balanced')\n",
        "plt.xlabel('Count')\n",
        "plt.ylabel('Emotion')\n",
        "plt.show()\n",
        "\n",
        "# Plot a pie chart\n",
        "plt.figure(figsize=(4, 4))\n",
        "pandas_data['Emotion'].value_counts().plot(kind='pie', autopct='%1.1f%%', startangle=90, colors=['skyblue', 'lightcoral', 'lightgreen', 'orange', 'lightsalmon', 'lightgray'])\n",
        "plt.title('Class Distribution - Balanced')\n",
        "plt.show()"
      ],
      "metadata": {
        "colab": {
          "base_uri": "https://localhost:8080/",
          "height": 760
        },
        "id": "TYO21h8Rx5Tx",
        "outputId": "3c95b47f-c7c8-422c-be2d-0f2adf10cfae"
      },
      "execution_count": 7,
      "outputs": [
        {
          "output_type": "display_data",
          "data": {
            "text/plain": [
              "<Figure size 800x400 with 1 Axes>"
            ],
            "image/png": "[encoded data removed]"
          },
          "metadata": {}
        },
        {
          "output_type": "display_data",
          "data": {
            "text/plain": [
              "<Figure size 400x400 with 1 Axes>"
            ],
            "image/png": "[encoded data removed]"
          },
          "metadata": {}
        }
      ]
    },
    {
      "cell_type": "markdown",
      "source": [
        "## Text Pre-Processing (TPP) Pipeline Implementation"
      ],
      "metadata": {
        "id": "okl1sTY9E8Vr"
      }
    },
    {
      "cell_type": "code",
      "source": [
        "document_assembler= DocumentAssembler()\\\n",
        "    .setInputCol('Text')\\\n",
        "    .setOutputCol('document')\n",
        "\n",
        "sentence_detector = SentenceDetector()\\\n",
        "    .setInputCols(['document'])\\\n",
        "    .setOutputCol('sentences')\n",
        "\n",
        "tokenizer = Tokenizer()\\\n",
        "    .setInputCols(['sentences'])\\\n",
        "    .setOutputCol('tokens')\n",
        "\n",
        "spell_checker = NorvigSweetingModel.pretrained()\\\n",
        "    .setInputCols('tokens')\\\n",
        "    .setOutputCol('tokens_spl')\n",
        "\n",
        "normalizer = Normalizer()\\\n",
        "    .setInputCols(['tokens_spl'])\\\n",
        "    .setOutputCol('tokens_nf')\\\n",
        "    .setLowercase(True)\n",
        "\n",
        "stop_words_cleaner = StopWordsCleaner()\\\n",
        "    .setInputCols(['tokens_nf'])\\\n",
        "    .setOutputCol('tokens_nosw')\\\n",
        "    .setCaseSensitive(False)\n",
        "\n",
        "lemmatizer = LemmatizerModel.pretrained()\\\n",
        "    .setInputCols(['tokens_nosw'])\\\n",
        "    .setOutputCol('tokens_nosw_lf')\n",
        "\n",
        "pipeline_tpp = Pipeline(\n",
        "    stages = [\n",
        "        document_assembler,\n",
        "        sentence_detector,\n",
        "        tokenizer,\n",
        "        spell_checker,\n",
        "        normalizer,\n",
        "        stop_words_cleaner,\n",
        "        lemmatizer\n",
        "    ]\n",
        ")"
      ],
      "metadata": {
        "colab": {
          "base_uri": "https://localhost:8080/"
        },
        "id": "YimKqbwBx-hx",
        "outputId": "50bd846c-c94e-42e3-b4f4-4e00c040bce1"
      },
      "execution_count": 8,
      "outputs": [
        {
          "output_type": "stream",
          "name": "stdout",
          "text": [
            "spellcheck_norvig download started this may take some time.\n",
            "Approximate size to download 4.2 MB\n",
            "[OK!]\n",
            "lemma_antbnc download started this may take some time.\n",
            "Approximate size to download 907.6 KB\n",
            "[OK!]\n"
          ]
        }
      ]
    },
    {
      "cell_type": "markdown",
      "source": [
        "## Execute TPP Pipeline"
      ],
      "metadata": {
        "id": "V9lH1SScFIOW"
      }
    },
    {
      "cell_type": "code",
      "source": [
        "import pyspark.sql.types as T\n",
        "udf_tokens_to_string = F.udf((lambda zlist: ' '.join(zlist)), T.StringType())\n",
        "\n",
        "pipeline_tpp_model_bal = pipeline_tpp.fit(train_data_bal)\n",
        "train_data_bal_tpp = pipeline_tpp_model_bal.transform(train_data_bal)\\\n",
        "  .withColumnRenamed('Processed Text', 'Text')\\\n",
        "  .withColumn('Processed Text', udf_tokens_to_string(F.col('tokens_nosw_lf.result')))\n",
        "test_data_bal_tpp = pipeline_tpp_model_bal.transform(test_data_bal)\\\n",
        "  .withColumnRenamed('Processed Text', 'Text')\\\n",
        "  .withColumn('Processed Text', udf_tokens_to_string(F.col('tokens_nosw_lf.result')))\n",
        "\n",
        "train_data_bal_tpp.limit(5).show()"
      ],
      "metadata": {
        "colab": {
          "base_uri": "https://localhost:8080/"
        },
        "id": "Jo2HVEbRyMM6",
        "outputId": "4d0ff2af-30b0-4c5d-b68f-29036f59b6db"
      },
      "execution_count": 9,
      "outputs": [
        {
          "output_type": "stream",
          "name": "stdout",
          "text": [
            "+-------+--------------------+--------------------+--------------------+--------------------+--------------------+--------------------+--------------------+--------------------+--------------------+\n",
            "|Emotion|                Text|            document|           sentences|              tokens|          tokens_spl|           tokens_nf|         tokens_nosw|      tokens_nosw_lf|      Processed Text|\n",
            "+-------+--------------------+--------------------+--------------------+--------------------+--------------------+--------------------+--------------------+--------------------+--------------------+\n",
            "|  anger|   #SAD #LONELY a...|[{document, 0, 73...|[{document, 3, 60...|[{token, 3, 6, #S...|[{token, 3, 6, #S...|[{token, 3, 5, sa...|[{token, 3, 5, sa...|[{token, 3, 5, sa...|sad lonely find p...|\n",
            "|  anger| &quot;If you are...|[{document, 0, 98...|[{document, 1, 6,...|[{token, 1, 5, &q...|[{token, 1, 5, qu...|[{token, 1, 4, qu...|[{token, 1, 4, qu...|[{token, 1, 4, qu...|quot patient one ...|\n",
            "|  anger| 20 to 1 , in fav...|[{document, 0, 37...|[{document, 1, 36...|[{token, 1, 2, 20...|[{token, 1, 2, 20...|[{token, 4, 5, to...|[{token, 14, 19, ...|[{token, 14, 19, ...|      favour cougars|\n",
            "|  anger| A warrant for wh...|[{document, 0, 21...|[{document, 1, 20...|[{token, 1, 1, A,...|[{token, 1, 1, A,...|[{token, 1, 1, a,...|[{token, 3, 9, wa...|[{token, 3, 9, wa...|             warrant|\n",
            "|  anger| Absolutely not !...|[{document, 0, 35...|[{document, 1, 34...|[{token, 1, 10, A...|[{token, 1, 10, A...|[{token, 1, 10, a...|[{token, 1, 10, a...|[{token, 1, 10, a...| absolutely im thief|\n",
            "+-------+--------------------+--------------------+--------------------+--------------------+--------------------+--------------------+--------------------+--------------------+--------------------+\n",
            "\n"
          ]
        }
      ]
    },
    {
      "cell_type": "markdown",
      "source": [
        "## Multi-Class Text Classification using Classifier DL"
      ],
      "metadata": {
        "id": "SEr9aJaGFg14"
      }
    },
    {
      "cell_type": "code",
      "source": [
        "# Sentence Embeddings with USE\n",
        "senetence_embeddings_use = UniversalSentenceEncoder.pretrained(name='tfhub_use',lang='en')\\\n",
        "    .setInputCols(['document'])\\\n",
        "    .setOutputCol('sentence_embeddings')\n",
        "\n",
        "classifier_dl = ClassifierDLApproach()\\\n",
        "    .setInputCols(['sentence_embeddings'])\\\n",
        "    .setLabelColumn('Emotion')\\\n",
        "    .setOutputCol('class')\\\n",
        "    .setMaxEpochs(30)\n",
        "\n",
        "\n",
        "pipeline_use = Pipeline(\n",
        "    stages=[\n",
        "        document_assembler,\n",
        "        senetence_embeddings_use,\n",
        "        classifier_dl\n",
        "    ]\n",
        ")\n",
        "\n",
        "model = pipeline_use.fit(train_data_bal_tpp)"
      ],
      "metadata": {
        "colab": {
          "base_uri": "https://localhost:8080/"
        },
        "id": "DmBV6yHA1uYt",
        "outputId": "637cf8a5-aa99-49fb-9432-585838df727f"
      },
      "execution_count": 11,
      "outputs": [
        {
          "output_type": "stream",
          "name": "stdout",
          "text": [
            "tfhub_use download started this may take some time.\n",
            "Approximate size to download 923.7 MB\n",
            "[OK!]\n"
          ]
        }
      ]
    },
    {
      "cell_type": "markdown",
      "source": [
        "## Infering Emotions with a model"
      ],
      "metadata": {
        "id": "Fls_H_szFs-X"
      }
    },
    {
      "cell_type": "code",
      "source": [
        "predictions = model.transform(test_data_bal)\n",
        "predictions.select('Text', 'Emotion', 'class.result', 'class.metadata').show(truncate=False)"
      ],
      "metadata": {
        "colab": {
          "base_uri": "https://localhost:8080/"
        },
        "id": "gp4H5QX44Ovj",
        "outputId": "c1fecf46-34a5-48ed-9ed9-32d7560fdcae"
      },
      "execution_count": 14,
      "outputs": [
        {
          "output_type": "stream",
          "name": "stdout",
          "text": [
            "+----------------------------------------------------------------------------------------------------------------------------------------------------------------------------------------+-------+---------+-----------------------------------------------------------------------------------------------------------------------------------+\n",
            "|Text                                                                                                                                                                                    |Emotion|result   |metadata                                                                                                                           |\n",
            "+----------------------------------------------------------------------------------------------------------------------------------------------------------------------------------------+-------+---------+-----------------------------------------------------------------------------------------------------------------------------------+\n",
            "|  in , i hate exams, i don't want 2 leave #cyclesradio #fuck my college                                                                                                                 |anger  |[anger]  |[{joy -> 1.7745971E-7, anger -> 0.99857724, neutral -> 6.1059953E-9, fear -> 6.615798E-6, sadness -> 0.001415834, sentence -> 0}]  |\n",
            "| ; WHY DOESN'T MY DVD PLAYER WORK PROPERLY???!! #HitTheDvdPlayer                                                                                                                        |anger  |[anger]  |[{joy -> 2.9257916E-10, anger -> 0.9999999, neutral -> 4.1728863E-11, fear -> 1.622296E-8, sadness -> 7.884608E-8, sentence -> 0}] |\n",
            "| But it will be expensive to have a car in the city , won't it ?                                                                                                                        |anger  |[neutral]|[{joy -> 2.868417E-8, anger -> 4.3050058E-10, neutral -> 1.0, fear -> 2.4702595E-12, sadness -> 1.00407295E-11, sentence -> 0}]    |\n",
            "| But that ’ s not the only thing ... you know , he really doesn ’ t have the best work ethic , I ’ m constantly catching him on MSN and Facebook when he should be talking to clients . |anger  |[neutral]|[{joy -> 3.708149E-4, anger -> 0.21136309, neutral -> 0.788114, fear -> 8.381592E-5, sadness -> 6.8275076E-5, sentence -> 0}]      |\n",
            "| But what ? You always act like this , when you face difficulties .                                                                                                                     |anger  |[anger]  |[{joy -> 1.3707728E-7, anger -> 0.7734686, neutral -> 2.2198664E-8, fear -> 0.22650513, sadness -> 2.6081236E-5, sentence -> 0}]   |\n",
            "| But what about parking ? You can't park on the street , can you ?                                                                                                                      |anger  |[anger]  |[{joy -> 1.4739273E-8, anger -> 0.9999989, neutral -> 8.362927E-8, fear -> 2.785843E-7, sadness -> 6.8718157E-7, sentence -> 0}]   |\n",
            "| But where have you been , Alice ? You're over an hour late .                                                                                                                           |anger  |[neutral]|[{joy -> 8.189571E-7, anger -> 2.315736E-7, neutral -> 0.9999989, fear -> 2.1264811E-10, sadness -> 3.6603836E-8, sentence -> 0}]  |\n",
            "| Curse the worst oven in the world .                                                                                                                                                    |anger  |[anger]  |[{joy -> 2.6403822E-7, anger -> 0.999653, neutral -> 4.016591E-9, fear -> 1.9047957E-6, sadness -> 3.4483583E-4, sentence -> 0}]   |\n",
            "| Don ’ t tell me what to do ! I ’ ll get to it when I get around to it !                                                                                                                |anger  |[neutral]|[{joy -> 1.6279614E-6, anger -> 9.051305E-9, neutral -> 0.99999833, fear -> 2.6982404E-11, sadness -> 8.354974E-10, sentence -> 0}]|\n",
            "| Don't be cross !                                                                                                                                                                       |anger  |[anger]  |[{joy -> 1.897717E-5, anger -> 0.9977962, neutral -> 0.0016917331, fear -> 1.248927E-4, sadness -> 3.682025E-4, sentence -> 0}]    |\n",
            "| Exactly.That ' s the worst part .                                                                                                                                                      |anger  |[anger]  |[{joy -> 3.075786E-7, anger -> 0.9986507, neutral -> 9.51982E-8, fear -> 3.7937466E-4, sadness -> 9.6951437E-4, sentence -> 0}]    |\n",
            "| Fine . Let's call a truce . I'll try to more considerate and to keep the noise down .                                                                                                  |anger  |[anger]  |[{joy -> 1.6437195E-9, anger -> 0.9999989, neutral -> 3.278522E-10, fear -> 1.1064929E-7, sadness -> 9.3211554E-7, sentence -> 0}] |\n",
            "| First I was late for school this morning , and now I broke your vase . This isn't my day !                                                                                             |anger  |[sadness]|[{joy -> 0.001645853, anger -> 1.4482974E-4, neutral -> 8.4197734E-7, fear -> 3.712846E-6, sadness -> 0.9982047, sentence -> 0}]   |\n",
            "| For God's sake ! It's too bloody . How can people be so cruel ?                                                                                                                        |anger  |[anger]  |[{joy -> 1.550731E-10, anger -> 0.9999994, neutral -> 2.4602861E-11, fear -> 1.5054898E-7, sadness -> 5.0037335E-7, sentence -> 0}]|\n",
            "| He gets mad when Gary does n't sleep , he says it 's my fault , he says I make him do it  and   She stopped again .                                                                    |anger  |[anger]  |[{joy -> 1.3377933E-11, anger -> 1.0, neutral -> 1.8841627E-12, fear -> 4.8879834E-9, sadness -> 1.6346077E-9, sentence -> 0}]     |\n",
            "| He's a sad dog . He came to the wedding in jeans !                                                                                                                                     |anger  |[sadness]|[{joy -> 0.011005543, anger -> 3.5904513E-6, neutral -> 1.5795824E-6, fear -> 1.5602538E-6, sadness -> 0.98898774, sentence -> 0}] |\n",
            "| How could I feel easy ? I ’ m really pissed .                                                                                                                                          |anger  |[anger]  |[{joy -> 1.8910437E-11, anger -> 1.0, neutral -> 1.6625489E-12, fear -> 4.3115245E-9, sadness -> 4.500748E-8, sentence -> 0}]      |\n",
            "| How could you ? I reminded you just this morning .                                                                                                                                     |anger  |[sadness]|[{joy -> 9.9183664E-5, anger -> 4.455219E-5, neutral -> 4.1254916E-7, fear -> 7.252585E-7, sadness -> 0.99985516, sentence -> 0}]  |\n",
            "| How dare you speak to me like this .                                                                                                                                                   |anger  |[anger]  |[{joy -> 9.072706E-9, anger -> 0.9999968, neutral -> 3.0358822E-9, fear -> 1.6639245E-7, sadness -> 3.1280413E-6, sentence -> 0}]  |\n",
            "| I can wait , but my toothache can't !                                                                                                                                                  |anger  |[anger]  |[{joy -> 3.881366E-6, anger -> 0.9983919, neutral -> 9.1737616E-7, fear -> 2.6648839E-5, sadness -> 0.0015766616, sentence -> 0}]  |\n",
            "+----------------------------------------------------------------------------------------------------------------------------------------------------------------------------------------+-------+---------+-----------------------------------------------------------------------------------------------------------------------------------+\n",
            "only showing top 20 rows\n",
            "\n"
          ]
        }
      ]
    },
    {
      "cell_type": "markdown",
      "source": [
        "## Evaluating model with Classification Report"
      ],
      "metadata": {
        "id": "JEZ98LXHF3pw"
      }
    },
    {
      "cell_type": "code",
      "source": [
        "from pyspark.ml.evaluation import MulticlassClassificationEvaluator\n",
        "from sklearn.metrics import classification_report\n",
        "from sklearn.preprocessing import LabelEncoder\n",
        "\n",
        "# Extracting true labels and predicted labels\n",
        "true_labels = predictions.select('Emotion').rdd.flatMap(lambda x: x).collect()\n",
        "predicted_labels = predictions.select('class.result').rdd.flatMap(lambda x: x).collect()\n",
        "\n",
        "# Encode the labels using sklearn's LabelEncoder\n",
        "label_encoder = LabelEncoder()\n",
        "true_labels_encoded = label_encoder.fit_transform(true_labels)\n",
        "predicted_labels_encoded = label_encoder.transform(predicted_labels)\n",
        "\n",
        "# Calculate and display the classification report\n",
        "report = classification_report(true_labels_encoded, predicted_labels_encoded, target_names=label_encoder.classes_)\n",
        "print(report)"
      ],
      "metadata": {
        "colab": {
          "base_uri": "https://localhost:8080/"
        },
        "id": "9ENm_KMA7Cj_",
        "outputId": "87a45cd6-4ce9-4f9a-d3e6-ed0a416c7ad7"
      },
      "execution_count": 15,
      "outputs": [
        {
          "output_type": "stream",
          "name": "stdout",
          "text": [
            "              precision    recall  f1-score   support\n",
            "\n",
            "       anger       0.60      0.66      0.63       436\n",
            "        fear       0.68      0.59      0.63       428\n",
            "         joy       0.66      0.67      0.67       450\n",
            "     neutral       0.80      0.85      0.83       463\n",
            "     sadness       0.60      0.57      0.58       471\n",
            "\n",
            "    accuracy                           0.67      2248\n",
            "   macro avg       0.67      0.67      0.67      2248\n",
            "weighted avg       0.67      0.67      0.67      2248\n",
            "\n"
          ]
        },
        {
          "output_type": "stream",
          "name": "stderr",
          "text": [
            "/usr/local/lib/python3.10/dist-packages/sklearn/preprocessing/_label.py:134: DataConversionWarning: A column-vector y was passed when a 1d array was expected. Please change the shape of y to (n_samples, ), for example using ravel().\n",
            "  y = column_or_1d(y, dtype=self.classes_.dtype, warn=True)\n"
          ]
        }
      ]
    },
    {
      "cell_type": "markdown",
      "source": [
        "## Saving the model and pipeline"
      ],
      "metadata": {
        "id": "Va4wqV1SyuoF"
      }
    },
    {
      "cell_type": "code",
      "source": [
        "model.save(\"/content/drive/MyDrive/model\")"
      ],
      "metadata": {
        "id": "B3mtFHlqGvXV"
      },
      "execution_count": 16,
      "outputs": []
    }
  ]
}